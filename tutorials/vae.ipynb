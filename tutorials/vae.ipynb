{
 "cells": [
  {
   "cell_type": "markdown",
   "metadata": {},
   "source": [
    "## Mapping human gait using unsupervised AI\n",
    "This notebook demonstrates how to use the `gait_mapper` package to train a variational autoencoder for mapping human gait."
   ]
  },
  {
   "cell_type": "code",
   "execution_count": 5,
   "metadata": {},
   "outputs": [],
   "source": [
    "import numpy as np\n",
    "import gait_mapper\n",
    "import gait_mapper.vae\n",
    "from pathlib import Path"
   ]
  },
  {
   "cell_type": "markdown",
   "metadata": {},
   "source": [
    "## 1 - Create the variational autoencoder\n",
    "Call the `vae` module from `gait_mapper` and create the encoder and decoder network."
   ]
  },
  {
   "cell_type": "code",
   "execution_count": 2,
   "metadata": {},
   "outputs": [
    {
     "name": "stderr",
     "output_type": "stream",
     "text": [
      "2022-04-23 13:08:51.721997: W tensorflow/stream_executor/platform/default/dso_loader.cc:64] Could not load dynamic library 'libcuda.so.1'; dlerror: libcuda.so.1: cannot open shared object file: No such file or directory\n",
      "2022-04-23 13:08:51.722024: W tensorflow/stream_executor/cuda/cuda_driver.cc:269] failed call to cuInit: UNKNOWN ERROR (303)\n",
      "2022-04-23 13:08:51.722034: I tensorflow/stream_executor/cuda/cuda_diagnostics.cc:156] kernel driver does not appear to be running on this host (DrYang): /proc/driver/nvidia/version does not exist\n",
      "2022-04-23 13:08:51.722159: I tensorflow/core/platform/cpu_feature_guard.cc:142] This TensorFlow binary is optimized with oneAPI Deep Neural Network Library (oneDNN) to use the following CPU instructions in performance-critical operations:  SSE4.1 SSE4.2 AVX AVX2 FMA\n",
      "To enable them in other operations, rebuild TensorFlow with the appropriate compiler flags.\n"
     ]
    }
   ],
   "source": [
    "# define parameters for the model\n",
    "window_length = 200\n",
    "degree_of_freedom = 6\n",
    "latent_features = 6\n",
    "\n",
    "vae = gait_mapper.vae.VAE(window_length, degree_of_freedom, latent_features)"
   ]
  },
  {
   "cell_type": "code",
   "execution_count": 3,
   "metadata": {},
   "outputs": [
    {
     "name": "stdout",
     "output_type": "stream",
     "text": [
      "Model: \"model\"\n",
      "__________________________________________________________________________________________________\n",
      "Layer (type)                    Output Shape         Param #     Connected to                     \n",
      "==================================================================================================\n",
      "input_1 (InputLayer)            [(None, 200, 6)]     0                                            \n",
      "__________________________________________________________________________________________________\n",
      "conv1 (Conv1D)                  (None, 196, 64)      1984        input_1[0][0]                    \n",
      "__________________________________________________________________________________________________\n",
      "max_pooling1d (MaxPooling1D)    (None, 98, 64)       0           conv1[0][0]                      \n",
      "__________________________________________________________________________________________________\n",
      "conv2 (Conv1D)                  (None, 96, 64)       12352       max_pooling1d[0][0]              \n",
      "__________________________________________________________________________________________________\n",
      "max_pooling1d_1 (MaxPooling1D)  (None, 48, 64)       0           conv2[0][0]                      \n",
      "__________________________________________________________________________________________________\n",
      "conv3 (Conv1D)                  (None, 46, 32)       6176        max_pooling1d_1[0][0]            \n",
      "__________________________________________________________________________________________________\n",
      "max_pooling1d_2 (MaxPooling1D)  (None, 23, 32)       0           conv3[0][0]                      \n",
      "__________________________________________________________________________________________________\n",
      "flatten (Flatten)               (None, 736)          0           max_pooling1d_2[0][0]            \n",
      "__________________________________________________________________________________________________\n",
      "dense1 (Dense)                  (None, 16)           11792       flatten[0][0]                    \n",
      "__________________________________________________________________________________________________\n",
      "dense2 (Dense)                  (None, 8)            136         dense1[0][0]                     \n",
      "__________________________________________________________________________________________________\n",
      "dense3 (Dense)                  (None, 8)            72          dense2[0][0]                     \n",
      "__________________________________________________________________________________________________\n",
      "leaky_re_lu (LeakyReLU)         (None, 8)            0           dense3[0][0]                     \n",
      "__________________________________________________________________________________________________\n",
      "mean (Dense)                    (None, 6)            54          leaky_re_lu[0][0]                \n",
      "__________________________________________________________________________________________________\n",
      "log_variance (Dense)            (None, 6)            54          leaky_re_lu[0][0]                \n",
      "__________________________________________________________________________________________________\n",
      "lambda (Lambda)                 (None, 6)            0           mean[0][0]                       \n",
      "                                                                 log_variance[0][0]               \n",
      "==================================================================================================\n",
      "Total params: 32,620\n",
      "Trainable params: 32,620\n",
      "Non-trainable params: 0\n",
      "__________________________________________________________________________________________________\n"
     ]
    }
   ],
   "source": [
    "# overview of encoder network\n",
    "vae.encoder.summary()"
   ]
  },
  {
   "cell_type": "code",
   "execution_count": 4,
   "metadata": {},
   "outputs": [
    {
     "name": "stdout",
     "output_type": "stream",
     "text": [
      "Model: \"model_1\"\n",
      "_________________________________________________________________\n",
      "Layer (type)                 Output Shape              Param #   \n",
      "=================================================================\n",
      "input_2 (InputLayer)         [(None, 6)]               0         \n",
      "_________________________________________________________________\n",
      "dense (Dense)                (None, 64)                448       \n",
      "_________________________________________________________________\n",
      "reshape (Reshape)            (None, 1, 64)             0         \n",
      "_________________________________________________________________\n",
      "conv1d_transpose (Conv1DTran (None, 3, 16)             3088      \n",
      "_________________________________________________________________\n",
      "conv1d_transpose_1 (Conv1DTr (None, 7, 32)             2592      \n",
      "_________________________________________________________________\n",
      "up_sampling1d (UpSampling1D) (None, 35, 32)            0         \n",
      "_________________________________________________________________\n",
      "conv1d_transpose_2 (Conv1DTr (None, 39, 64)            10304     \n",
      "_________________________________________________________________\n",
      "up_sampling1d_1 (UpSampling1 (None, 195, 64)           0         \n",
      "_________________________________________________________________\n",
      "conv1d_transpose_3 (Conv1DTr (None, 200, 6)            2310      \n",
      "_________________________________________________________________\n",
      "leaky_re_lu_1 (LeakyReLU)    (None, 200, 6)            0         \n",
      "=================================================================\n",
      "Total params: 18,742\n",
      "Trainable params: 18,742\n",
      "Non-trainable params: 0\n",
      "_________________________________________________________________\n"
     ]
    }
   ],
   "source": [
    "# overview of decoder network\n",
    "vae.decoder.summary()"
   ]
  },
  {
   "cell_type": "markdown",
   "metadata": {},
   "source": [
    "## 2 - Loading the dataset"
   ]
  },
  {
   "cell_type": "code",
   "execution_count": 13,
   "metadata": {},
   "outputs": [],
   "source": [
    "# get the test data\n",
    "repo_path = Path().resolve().parent\n",
    "data_folder = Path(repo_path, 'tests/test_data')\n",
    "# prepare data for the network\n",
    "raw_data = np.load(Path(data_folder,\n",
    " \"stored_groupsplit_withoutS01722_latentfeatures_2_frequency_20.npy\"))\n",
    "data = raw_data[:4800].reshape(-1, window_length, degree_of_freedom)"
   ]
  },
  {
   "cell_type": "markdown",
   "metadata": {},
   "source": [
    "## 3 - Train model"
   ]
  },
  {
   "cell_type": "code",
   "execution_count": 15,
   "metadata": {},
   "outputs": [
    {
     "name": "stdout",
     "output_type": "stream",
     "text": [
      "Epoch 1/10\n",
      "2/2 [==============================] - 1s 4ms/step - loss: 2439.3441 - reconstruction_loss: 1585.9705 - kl_loss: 729.5651\n",
      "Epoch 2/10\n",
      "2/2 [==============================] - 0s 3ms/step - loss: 2164.5172 - reconstruction_loss: 1394.0663 - kl_loss: 516.2867\n",
      "Epoch 3/10\n",
      "2/2 [==============================] - 0s 3ms/step - loss: 1723.2941 - reconstruction_loss: 1458.6663 - kl_loss: 379.1301\n",
      "Epoch 4/10\n",
      "2/2 [==============================] - 0s 4ms/step - loss: 1730.0779 - reconstruction_loss: 1423.9127 - kl_loss: 116.9447\n",
      "Epoch 5/10\n",
      "2/2 [==============================] - 0s 3ms/step - loss: 1596.9126 - reconstruction_loss: 1292.0602 - kl_loss: 127.4485\n",
      "Epoch 6/10\n",
      "2/2 [==============================] - 0s 3ms/step - loss: 921.2072 - reconstruction_loss: 1043.2390 - kl_loss: 156.3671\n",
      "Epoch 7/10\n",
      "2/2 [==============================] - 0s 3ms/step - loss: 756.0377 - reconstruction_loss: 792.5471 - kl_loss: 186.9400\n",
      "Epoch 8/10\n",
      "2/2 [==============================] - 0s 4ms/step - loss: 902.0938 - reconstruction_loss: 570.7953 - kl_loss: 219.9257\n",
      "Epoch 9/10\n",
      "2/2 [==============================] - 0s 3ms/step - loss: 745.6299 - reconstruction_loss: 336.3581 - kl_loss: 270.6589\n",
      "Epoch 10/10\n",
      "2/2 [==============================] - 0s 3ms/step - loss: 611.0715 - reconstruction_loss: 347.4237 - kl_loss: 294.0568\n"
     ]
    }
   ],
   "source": [
    "# choose the optimizer\n",
    "vae.compile(optimizer=\"adam\")\n",
    "# train the model\n",
    "history = vae.fit(data, epochs=10, batch_size=2)"
   ]
  },
  {
   "cell_type": "code",
   "execution_count": 17,
   "metadata": {},
   "outputs": [
    {
     "data": {
      "text/plain": [
       "[2315.53564453125,\n",
       " 1910.35302734375,\n",
       " 1837.79638671875,\n",
       " 1540.857421875,\n",
       " 1419.5087890625,\n",
       " 1199.606201171875,\n",
       " 979.487060546875,\n",
       " 790.7210693359375,\n",
       " 607.0169067382812,\n",
       " 641.4805908203125]"
      ]
     },
     "execution_count": 17,
     "metadata": {},
     "output_type": "execute_result"
    }
   ],
   "source": [
    "history.history['loss']"
   ]
  }
 ],
 "metadata": {
  "interpreter": {
   "hash": "e7604e8ec5f09e490e10161e37a4725039efd3ab703d81b1b8a1e00d6741866c"
  },
  "kernelspec": {
   "display_name": "Python 3.8.5 ('base')",
   "language": "python",
   "name": "python3"
  },
  "language_info": {
   "codemirror_mode": {
    "name": "ipython",
    "version": 3
   },
   "file_extension": ".py",
   "mimetype": "text/x-python",
   "name": "python",
   "nbconvert_exporter": "python",
   "pygments_lexer": "ipython3",
   "version": "3.8.13"
  },
  "orig_nbformat": 4
 },
 "nbformat": 4,
 "nbformat_minor": 2
}
